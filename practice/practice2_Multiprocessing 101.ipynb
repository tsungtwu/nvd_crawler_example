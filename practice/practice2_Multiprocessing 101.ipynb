{
 "cells": [
  {
   "cell_type": "markdown",
   "metadata": {},
   "source": [
    "# Practice: Multiprocessing 101\n"
   ]
  },
  {
   "cell_type": "code",
   "execution_count": 46,
   "metadata": {},
   "outputs": [],
   "source": [
    "import multiprocessing\n"
   ]
  },
  {
   "cell_type": "code",
   "execution_count": 47,
   "metadata": {},
   "outputs": [],
   "source": [
    "def task1():\n",
    "    \"\"\"worker function\"\"\"\n",
    "    print 'Process'\n",
    "    return"
   ]
  },
  {
   "cell_type": "code",
   "execution_count": 48,
   "metadata": {},
   "outputs": [],
   "source": [
    "p_list = []"
   ]
  },
  {
   "cell_type": "code",
   "execution_count": 49,
   "metadata": {},
   "outputs": [
    {
     "name": "stdout",
     "output_type": "stream",
     "text": [
      "Process\n",
      "Process\n",
      "Process\n",
      "Process\n",
      "Process\n"
     ]
    }
   ],
   "source": [
    "for i in range(5):\n",
    "    p = multiprocessing.Process(target=task1)\n",
    "    p_list.append(p)\n",
    "    p.start()"
   ]
  },
  {
   "cell_type": "code",
   "execution_count": 50,
   "metadata": {},
   "outputs": [],
   "source": [
    "def task2(num):\n",
    "    \"\"\"worker function\"\"\"\n",
    "    print 'Process', num\n",
    "    return"
   ]
  },
  {
   "cell_type": "code",
   "execution_count": 51,
   "metadata": {},
   "outputs": [
    {
     "name": "stdout",
     "output_type": "stream",
     "text": [
      "Process 0\n",
      "Process 1\n",
      "Process 2\n",
      "Process 3\n",
      "Process 4\n"
     ]
    }
   ],
   "source": [
    "for i in range(5):\n",
    "    p = multiprocessing.Process(target=task2, args=(i, ))\n",
    "    p_list.append(p)\n",
    "    p.start()"
   ]
  },
  {
   "cell_type": "code",
   "execution_count": 52,
   "metadata": {},
   "outputs": [
    {
     "name": "stdout",
     "output_type": "stream",
     "text": [
      "[<Process(Process-67, stopped)>, <Process(Process-68, stopped)>, <Process(Process-69, stopped)>, <Process(Process-70, stopped)>, <Process(Process-71, stopped)>, <Process(Process-72, stopped)>, <Process(Process-73, stopped)>, <Process(Process-74, stopped)>, <Process(Process-75, stopped)>, <Process(Process-76, stopped)>]\n"
     ]
    }
   ],
   "source": [
    "print p_list"
   ]
  },
  {
   "cell_type": "code",
   "execution_count": 53,
   "metadata": {},
   "outputs": [],
   "source": [
    "for i in p_list:\n",
    "    i.terminate()\n",
    "    i.join()"
   ]
  },
  {
   "cell_type": "code",
   "execution_count": 54,
   "metadata": {},
   "outputs": [
    {
     "name": "stdout",
     "output_type": "stream",
     "text": [
      "[<Process(Process-67, stopped)>, <Process(Process-68, stopped)>, <Process(Process-69, stopped)>, <Process(Process-70, stopped)>, <Process(Process-71, stopped)>, <Process(Process-72, stopped)>, <Process(Process-73, stopped)>, <Process(Process-74, stopped)>, <Process(Process-75, stopped)>, <Process(Process-76, stopped)>]\n"
     ]
    }
   ],
   "source": [
    "print p_list"
   ]
  },
  {
   "cell_type": "markdown",
   "metadata": {},
   "source": [
    "## Queue - Share memory\n",
    "### 用法 \n",
    "- queue.put('你要塞進queue的資料')\n",
    "- queue.get()"
   ]
  },
  {
   "cell_type": "markdown",
   "metadata": {},
   "source": [
    "## Practice - 用Queue實作傳參數"
   ]
  },
  {
   "cell_type": "code",
   "execution_count": 63,
   "metadata": {},
   "outputs": [],
   "source": [
    "q = multiprocessing.Queue()"
   ]
  },
  {
   "cell_type": "code",
   "execution_count": 64,
   "metadata": {},
   "outputs": [],
   "source": [
    "# your code \n",
    "# put data in queue"
   ]
  },
  {
   "cell_type": "code",
   "execution_count": 3,
   "metadata": {},
   "outputs": [],
   "source": [
    "def task3():\n",
    "    \"\"\"worker function\"\"\"\n",
    "    # your code - get queue data\n",
    "    return"
   ]
  },
  {
   "cell_type": "code",
   "execution_count": null,
   "metadata": {},
   "outputs": [],
   "source": [
    "for i in range(6):\n",
    "    p = multiprocessing.Process(target=task3)\n",
    "    p_list.append(p)\n",
    "    p.start()"
   ]
  },
  {
   "cell_type": "code",
   "execution_count": null,
   "metadata": {},
   "outputs": [],
   "source": []
  }
 ],
 "metadata": {
  "kernelspec": {
   "display_name": "Python 2",
   "language": "python",
   "name": "python2"
  },
  "language_info": {
   "codemirror_mode": {
    "name": "ipython",
    "version": 2
   },
   "file_extension": ".py",
   "mimetype": "text/x-python",
   "name": "python",
   "nbconvert_exporter": "python",
   "pygments_lexer": "ipython2",
   "version": "2.7.10"
  }
 },
 "nbformat": 4,
 "nbformat_minor": 2
}
